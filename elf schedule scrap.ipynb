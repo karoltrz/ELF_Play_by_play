{
 "cells": [
  {
   "cell_type": "code",
   "execution_count": null,
   "id": "e5574ead",
   "metadata": {},
   "outputs": [],
   "source": [
    "#importing libraries\n",
    "from selenium import webdriver\n",
    "from selenium.webdriver.common.keys import Keys\n",
    "from selenium.webdriver.common.by import By\n",
    "from selenium.webdriver.chrome.service import Service\n",
    "import time\n",
    "import requests\n",
    "from bs4 import BeautifulSoup\n",
    "from csv import writer\n",
    "import numpy as np\n",
    "import pandas as pd\n",
    "import os"
   ]
  },
  {
   "cell_type": "code",
   "execution_count": null,
   "id": "b971da50",
   "metadata": {},
   "outputs": [],
   "source": [
    "#display setup for visibility\n",
    "pd.set_option('display.max_rows', 1000)\n",
    "pd.set_option('display.max_columns', 500)\n",
    "pd.set_option('display.width', 1000)"
   ]
  },
  {
   "cell_type": "code",
   "execution_count": null,
   "id": "4b88c9f0",
   "metadata": {},
   "outputs": [],
   "source": [
    "#connecting with chrome \n",
    "service = Service('./chromedriver.exe')\n",
    "service.start()\n",
    "driver = webdriver.Remote(service.service_url)\n",
    "driver.get('https://europeanleague.football/schedule?season=2022')\n",
    "time.sleep(3)\n",
    "#clicking through cookies\n",
    "driver.find_element(By.XPATH,'.//*[@id=\"consentDialog\"]/div[2]/div[2]/div/div[2]/div/div[1]/div').click()\n",
    "time.sleep(3)\n",
    "page_source = driver.page_source\n",
    "#connecting to BS4\n",
    "soup = BeautifulSoup(page_source, 'lxml')"
   ]
  },
  {
   "cell_type": "code",
   "execution_count": null,
   "id": "b185c8b5",
   "metadata": {},
   "outputs": [],
   "source": [
    "#creating data frames\n",
    "#df with general info\n",
    "games = [g.get_text() for g in soup.select('h4')]\n",
    "games_sublists = [games[i:i+10] for i in range(0, len(games), 10)]\n",
    "df_games = pd.DataFrame(games_sublists, columns=['season','month','date_full','game_hour','time_zone',\n",
    "                                                 'stadium_city','away_team','drop1','home_team','drop2'])\n",
    "#df with scores\n",
    "scores = soup.find_all('div', {'class':'g-score is-real'})\n",
    "score = [s.get_text() for s in scores]\n",
    "scores_sublist = [score[i:i+2] for i in range(0, len(scores), 2)]\n",
    "df_scores = pd.DataFrame(scores_sublist, columns=['away_team_final_score','home_team_final_score'])\n",
    "#df for weeks\n",
    "weeks = soup.find_all('div', {'class':'gd-no'})\n",
    "week = [w.get_text() for w in weeks]\n",
    "week_sublist = [week[i+1:i+2] for i in range(0, len(week), 2)]\n",
    "df_weeks = pd.DataFrame(week_sublist, columns=['game_week'])\n",
    "#df merging above frames\n",
    "df_game_info = pd.concat([df_games, df_scores, df_weeks], axis=1)\n",
    "df_game_info = df_game_info[df_game_info['season'].str.contains('20')]\n",
    "df_game_info.drop(['drop1', 'drop2','time_zone'], axis=1,inplace=True)\n",
    "\n",
    "months_dict = {'May':'05','June':'06','July':'07','August':'08','September':'09','October':'10'}\n",
    "df_game_info.replace({\"month\":months_dict}, inplace=True)\n",
    "               \n",
    "df_game_info['game_id'] = df_game_info['season'].str.split(\"\").str[3:5].str.join(\"\")+df_game_info['month']+df_game_info['away_team'].str.split(\"\").str[:4].str.join(\"\")+df_game_info['home_team'].str.split(\"\").str[:4].str.join(\"\")"
   ]
  },
  {
   "cell_type": "code",
   "execution_count": null,
   "id": "56b6849d",
   "metadata": {},
   "outputs": [],
   "source": [
    "#saving data to csv file\n",
    "df_game_info.to_csv('elf_schedule_scrap.csv')"
   ]
  }
 ],
 "metadata": {
  "kernelspec": {
   "display_name": "Python 3",
   "language": "python",
   "name": "python3"
  },
  "language_info": {
   "codemirror_mode": {
    "name": "ipython",
    "version": 3
   },
   "file_extension": ".py",
   "mimetype": "text/x-python",
   "name": "python",
   "nbconvert_exporter": "python",
   "pygments_lexer": "ipython3",
   "version": "3.8.8"
  }
 },
 "nbformat": 4,
 "nbformat_minor": 5
}
